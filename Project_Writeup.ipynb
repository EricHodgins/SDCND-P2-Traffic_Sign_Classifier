{
 "cells": [
  {
   "cell_type": "markdown",
   "metadata": {},
   "source": [
    "## Data Set Summary & Exploration"
   ]
  },
  {
   "cell_type": "markdown",
   "metadata": {},
   "source": [
    "### 1. Provide a basic summary of the data set. In the code, the analysis should be done using python, numpy and/or pandas methods rather than hardcoding results manually."
   ]
  },
  {
   "cell_type": "markdown",
   "metadata": {},
   "source": [
    "###### Using basic python and numpy methods, these stats ewere discovered from the dataset: <br>\n",
    "Number of training examples = 34799 <br>\n",
    "Number of testing examples = 12630 <br>\n",
    "Image data shape = (32, 32, 3) <br>\n",
    "Number of classes = 43"
   ]
  },
  {
   "cell_type": "markdown",
   "metadata": {},
   "source": [
    "### 2. Include an exploratory visualization of the dataset."
   ]
  },
  {
   "cell_type": "markdown",
   "metadata": {},
   "source": [
    "Plotting the distribution of the train data and validation data (orange).  You can see the data is not very<br>\n",
    "uniform.\n",
    "<br>\n",
    "![alt text](data_distribution.png \"Title\")\n",
    "<br>\n",
    "The maximum value is index 2 with 2010 images and the minimum is index 0 with 180 images for the <br>\n",
    "train data."
   ]
  },
  {
   "cell_type": "markdown",
   "metadata": {},
   "source": [
    "## Design and Test a Model Architecture"
   ]
  },
  {
   "cell_type": "markdown",
   "metadata": {},
   "source": [
    "### 1. Describe how you preprocessed the image data. What techniques were chosen and why did you choose these techniques? Consider including images showing the output of each preprocessing technique. Pre-processing refers to techniques such as converting to grayscale, normalization, etc. (OPTIONAL: As described in the \"Stand Out Suggestions\" part of the rubric, if you generated additional data for training, describe why you decided to generate additional data, how you generated the data, and provide example images of the additional data. Then describe the characteristics of the augmented training set like number of images in the set, number of images for each class, etc.)"
   ]
  },
  {
   "cell_type": "markdown",
   "metadata": {},
   "source": [
    "First I tried to make the train data be more uniform.  So I randomly picked an image from each index<br>\n",
    "and augmented it 1 of 4 ways like so:<br>\n",
    "![alt text](additional_copied_augmented_images.png \"Title\")\n",
    "<br>\n",
    "Blurred, added random noise, rotated the picture slightly and finally added some brightness to it. <br><br>\n",
    "\n",
    "Once all those were added which consisted of turning all the images to gray scale and then normalizing <br>\n",
    "the gray scale images.  Turning the images to gray scale thought might help bring out the features more <br>\n",
    "easily.  Normalizing the data would be make all the images would have roughly the same variance."
   ]
  },
  {
   "cell_type": "markdown",
   "metadata": {},
   "source": [
    "### 2. Describe what your final model architecture looks like including model type, layers, layer sizes, connectivity, etc.) Consider including a diagram and/or table describing the final model."
   ]
  },
  {
   "attachments": {},
   "cell_type": "markdown",
   "metadata": {},
   "source": [
    "My model consists of the following layers: <br>\n",
    "\n",
    "![alt text](model_table.png \"Title\")"
   ]
  },
  {
   "cell_type": "markdown",
   "metadata": {},
   "source": [
    "### 3. Describe how you trained your model. The discussion can include the type of optimizer, the batch size, number of epochs and any hyperparameters such as learning rate."
   ]
  },
  {
   "cell_type": "markdown",
   "metadata": {},
   "source": [
    "To train the model I used the following parameters:<br><br>\n",
    "EPOCHS: 20 <br>\n",
    "BATCH_SIZE: 128 <br>\n",
    "learning_rate: 0.001 <br>\n",
    "Optimizer: AdamOptimizer <br>"
   ]
  },
  {
   "cell_type": "markdown",
   "metadata": {},
   "source": [
    "### 4. Describe the approach taken for finding a solution and getting the validation set accuracy to be at least 0.93. Include in the discussion the results on the training, validation and test sets and where in the code these were calculated. Your approach may have been an iterative process, in which case, outline the steps you took to get to the final solution and why you chose those steps. Perhaps your solution involved an already well known implementation or architecture. In this case, discuss why you think the architecture is suitable for the current problem."
   ]
  },
  {
   "cell_type": "markdown",
   "metadata": {},
   "source": [
    "Validation Accuracy: 95% <br>\n",
    "Test Accuracy: 92.7%\n",
    "\n",
    "I found the original LeNet Model could not get a validation accuracy more than 0.93.  Fairly high though with <br>\n",
    "only RGB images.  But not good enough. <br>\n",
    "So I tried adding more depth to the model. Example on the first layer instead of an output of 28x28x6 I changed it <br>\n",
    "to 28x28x48.  That seemed to help a little.  But when I introduced another additional layer my results greatly <br>\n",
    "imporoved.\n",
    "<br>\n",
    "Adding Dropout seemed to help a little.  A keep_prob of 0.7 seemed to work fairly good."
   ]
  },
  {
   "cell_type": "markdown",
   "metadata": {},
   "source": [
    "## Test a Model on New Images"
   ]
  },
  {
   "cell_type": "markdown",
   "metadata": {},
   "source": [
    "### 1. Choose five German traffic signs found on the web and provide them in the report. For each image, discuss what quality or qualities might be difficult to classify."
   ]
  },
  {
   "cell_type": "markdown",
   "metadata": {},
   "source": [
    "Here are some images I downloaded from the web:<br>\n",
    "![alt text](web_images.png \"Title\")\n",
    "<br>\n",
    "All images might be difficult to classify because a lot of the image isn't just the sign.  They contain sky, trees, clouds etc."
   ]
  },
  {
   "cell_type": "markdown",
   "metadata": {},
   "source": [
    "### 2. Discuss the model's predictions on these new traffic signs and compare the results to predicting on the test set. At a minimum, discuss what the predictions were, the accuracy on these new predictions, and compare the accuracy to the accuracy on the test set (OPTIONAL: Discuss the results in more detail as described in the \"Stand Out Suggestions\" part of the rubric)."
   ]
  },
  {
   "cell_type": "markdown",
   "metadata": {},
   "source": [
    "<b>Prediction | Correct</b> <br>\n",
    "30 km/h       :  30 km/hr<br>\n",
    "70 km/h       :  Go straight or left<br>\n",
    "No entry      :  No entry<br>\n",
    "Yield         :  Keep right<br>\n",
    "No vehicles   :  Stop<br>\n",
    "Road work     :  Yield<br>\n",
    "\n",
    "2 out of 6 correct (1/3) or 33%"
   ]
  },
  {
   "cell_type": "markdown",
   "metadata": {},
   "source": [
    "### 3. Describe how certain the model is when predicting on each of the five new images by looking at the softmax probabilities for each prediction. Provide the top 5 softmax probabilities for each image along with the sign type of each probability. (OPTIONAL: as described in the \"Stand Out Suggestions\" part of the rubric, visualizations can also be provided such as bar charts)"
   ]
  },
  {
   "cell_type": "markdown",
   "metadata": {},
   "source": [
    "100% thought it was 30 km/h sign.<br>\n",
    "![alt text](30_softmax.png \"Title\")\n",
    "<br>\n",
    "For some reason thought this was a Keep left sign.  25 is Road Work. <br>\n",
    "![alt text](70_softmax.png \"Title\")\n",
    "<br>\n",
    "Nearly 100% thought this was a No entry sign. <br>\n",
    "![alt text](no_entry_softmax.png \"Title\")\n",
    "<br>\n",
    "For some reason thought this was mostly a Double curve sign.<br>\n",
    "![alt text](right_softmax.png \"Title\")\n",
    "<br>\n",
    "Thought this was a bicycle crossing sign.<br>\n",
    "![alt text](stop_softmax.png \"Title\")\n",
    "<br>\n",
    "Thought the Yield sign was nearly a tie with Beware of ice/snow, Road Work and a Double Curve sign.<br>\n",
    "![alt text](yield_softmax.png \"Title\")"
   ]
  },
  {
   "cell_type": "code",
   "execution_count": null,
   "metadata": {},
   "outputs": [],
   "source": []
  }
 ],
 "metadata": {
  "kernelspec": {
   "display_name": "Python [conda env:dlnd_py3]",
   "language": "python",
   "name": "conda-env-dlnd_py3-py"
  },
  "language_info": {
   "codemirror_mode": {
    "name": "ipython",
    "version": 3
   },
   "file_extension": ".py",
   "mimetype": "text/x-python",
   "name": "python",
   "nbconvert_exporter": "python",
   "pygments_lexer": "ipython3",
   "version": "3.6.4"
  }
 },
 "nbformat": 4,
 "nbformat_minor": 2
}
